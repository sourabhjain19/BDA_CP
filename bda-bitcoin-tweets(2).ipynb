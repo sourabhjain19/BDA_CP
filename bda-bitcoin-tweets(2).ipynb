{
 "cells": [
  {
   "cell_type": "code",
   "execution_count": 1,
   "metadata": {},
   "outputs": [
    {
     "name": "stdout",
     "output_type": "stream",
     "text": [
      "Collecting pyspark\n",
      "  Downloading pyspark-3.0.1.tar.gz (204.2 MB)\n",
      "\u001b[K     |████████████████████████████████| 204.2 MB 27 kB/s s eta 0:00:01     |██████████████████████████▎     | 167.4 MB 62.2 MB/s eta 0:00:01\n",
      "\u001b[?25hCollecting py4j==0.10.9\n",
      "  Downloading py4j-0.10.9-py2.py3-none-any.whl (198 kB)\n",
      "\u001b[K     |████████████████████████████████| 198 kB 39.6 MB/s eta 0:00:01\n",
      "\u001b[?25hBuilding wheels for collected packages: pyspark\n",
      "  Building wheel for pyspark (setup.py) ... \u001b[?25ldone\n",
      "\u001b[?25h  Created wheel for pyspark: filename=pyspark-3.0.1-py2.py3-none-any.whl size=204612244 sha256=6a2626450da88676974ecd9fa17d124022461c9f8423f9fc1fa81168af999325\n",
      "  Stored in directory: /root/.cache/pip/wheels/5e/34/fa/b37b5cef503fc5148b478b2495043ba61b079120b7ff379f9b\n",
      "Successfully built pyspark\n",
      "Installing collected packages: py4j, pyspark\n",
      "Successfully installed py4j-0.10.9 pyspark-3.0.1\n",
      "Collecting langdetect\n",
      "  Downloading langdetect-1.0.8.tar.gz (981 kB)\n",
      "\u001b[K     |████████████████████████████████| 981 kB 1.3 MB/s eta 0:00:01\n",
      "\u001b[?25hRequirement already satisfied: six in /opt/conda/lib/python3.7/site-packages (from langdetect) (1.14.0)\n",
      "Building wheels for collected packages: langdetect\n",
      "  Building wheel for langdetect (setup.py) ... \u001b[?25ldone\n",
      "\u001b[?25h  Created wheel for langdetect: filename=langdetect-1.0.8-py3-none-any.whl size=993191 sha256=281baa26a5dae378c4fcc4c5c518e8b92b084b6cd00e6c8c1288133782cd2887\n",
      "  Stored in directory: /root/.cache/pip/wheels/59/f6/9d/85068904dba861c0b9af74e286265a08da438748ee5ae56067\n",
      "Successfully built langdetect\n",
      "Installing collected packages: langdetect\n",
      "Successfully installed langdetect-1.0.8\n",
      "Collecting pyspark_dist_explore\n",
      "  Downloading pyspark_dist_explore-0.1.8-py3-none-any.whl (7.2 kB)\n",
      "Requirement already satisfied: matplotlib in /opt/conda/lib/python3.7/site-packages (from pyspark_dist_explore) (3.2.1)\n",
      "Requirement already satisfied: pandas in /opt/conda/lib/python3.7/site-packages (from pyspark_dist_explore) (1.1.4)\n",
      "Requirement already satisfied: numpy in /opt/conda/lib/python3.7/site-packages (from pyspark_dist_explore) (1.18.5)\n",
      "Requirement already satisfied: scipy in /opt/conda/lib/python3.7/site-packages (from pyspark_dist_explore) (1.4.1)\n",
      "Requirement already satisfied: python-dateutil>=2.1 in /opt/conda/lib/python3.7/site-packages (from matplotlib->pyspark_dist_explore) (2.8.1)\n",
      "Requirement already satisfied: cycler>=0.10 in /opt/conda/lib/python3.7/site-packages (from matplotlib->pyspark_dist_explore) (0.10.0)\n",
      "Requirement already satisfied: kiwisolver>=1.0.1 in /opt/conda/lib/python3.7/site-packages (from matplotlib->pyspark_dist_explore) (1.2.0)\n",
      "Requirement already satisfied: pyparsing!=2.0.4,!=2.1.2,!=2.1.6,>=2.0.1 in /opt/conda/lib/python3.7/site-packages (from matplotlib->pyspark_dist_explore) (2.4.7)\n",
      "Requirement already satisfied: pytz>=2017.2 in /opt/conda/lib/python3.7/site-packages (from pandas->pyspark_dist_explore) (2019.3)\n",
      "Requirement already satisfied: six>=1.5 in /opt/conda/lib/python3.7/site-packages (from python-dateutil>=2.1->matplotlib->pyspark_dist_explore) (1.14.0)\n",
      "Installing collected packages: pyspark-dist-explore\n",
      "Successfully installed pyspark-dist-explore-0.1.8\n",
      "Collecting tweepy\n",
      "  Downloading tweepy-3.9.0-py2.py3-none-any.whl (30 kB)\n",
      "Requirement already satisfied: requests-oauthlib>=0.7.0 in /opt/conda/lib/python3.7/site-packages (from tweepy) (1.2.0)\n",
      "Requirement already satisfied: requests[socks]>=2.11.1 in /opt/conda/lib/python3.7/site-packages (from tweepy) (2.23.0)\n",
      "Requirement already satisfied: six>=1.10.0 in /opt/conda/lib/python3.7/site-packages (from tweepy) (1.14.0)\n",
      "Requirement already satisfied: oauthlib>=3.0.0 in /opt/conda/lib/python3.7/site-packages (from requests-oauthlib>=0.7.0->tweepy) (3.0.1)\n",
      "Requirement already satisfied: chardet<4,>=3.0.2 in /opt/conda/lib/python3.7/site-packages (from requests[socks]>=2.11.1->tweepy) (3.0.4)\n",
      "Requirement already satisfied: certifi>=2017.4.17 in /opt/conda/lib/python3.7/site-packages (from requests[socks]>=2.11.1->tweepy) (2020.11.8)\n",
      "Requirement already satisfied: idna<3,>=2.5 in /opt/conda/lib/python3.7/site-packages (from requests[socks]>=2.11.1->tweepy) (2.9)\n",
      "Requirement already satisfied: urllib3!=1.25.0,!=1.25.1,<1.26,>=1.21.1 in /opt/conda/lib/python3.7/site-packages (from requests[socks]>=2.11.1->tweepy) (1.25.9)\n",
      "Requirement already satisfied: PySocks!=1.5.7,>=1.5.6; extra == \"socks\" in /opt/conda/lib/python3.7/site-packages (from requests[socks]>=2.11.1->tweepy) (1.7.1)\n",
      "Installing collected packages: tweepy\n",
      "Successfully installed tweepy-3.9.0\n",
      "Requirement already satisfied: textblob in /opt/conda/lib/python3.7/site-packages (0.15.3)\n",
      "Requirement already satisfied: nltk>=3.1 in /opt/conda/lib/python3.7/site-packages (from textblob) (3.2.4)\n",
      "Requirement already satisfied: six in /opt/conda/lib/python3.7/site-packages (from nltk>=3.1->textblob) (1.14.0)\n"
     ]
    }
   ],
   "source": [
    "!pip install pyspark\n",
    "!pip install langdetect\n",
    "!pip install pyspark_dist_explore\n",
    "!pip install tweepy\n",
    "!pip install textblob"
   ]
  },
  {
   "cell_type": "code",
   "execution_count": 2,
   "metadata": {},
   "outputs": [],
   "source": [
    "import os\n",
    "import pandas as pd\n",
    "import numpy as np\n",
    "\n",
    "import pyspark\n",
    "from pyspark import SparkConf, SparkContext\n",
    "from pyspark.sql import SparkSession, SQLContext\n",
    "\n",
    "from pyspark.sql.types import *\n",
    "from pyspark.sql.functions import *\n",
    "import pyspark.sql.functions as F\n",
    "from pyspark.sql.functions import udf, col\n",
    "\n",
    "from pyspark.ml.regression import LinearRegression\n",
    "from pyspark.mllib.evaluation import RegressionMetrics\n",
    "\n",
    "from pyspark.ml.tuning import ParamGridBuilder, CrossValidator, CrossValidatorModel\n",
    "from pyspark.ml.feature import VectorAssembler, StandardScaler\n",
    "from pyspark.ml.evaluation import RegressionEvaluator\n",
    "\n",
    "from pyspark.sql.types import FloatType\n",
    "from textblob import TextBlob\n",
    "from langdetect import detect\n",
    "import re\n",
    "\n",
    "import matplotlib.pyplot as plt\n",
    "%matplotlib inline\n",
    "\n",
    "import time"
   ]
  },
  {
   "cell_type": "code",
   "execution_count": 3,
   "metadata": {},
   "outputs": [],
   "source": [
    "def langdetect1(tweet):\n",
    "    try:\n",
    "        if detect(tweet)=='en':\n",
    "            return 1\n",
    "        else:\n",
    "            return 0\n",
    "    except:\n",
    "        return 0\n",
    "\n",
    "def clean_tweet1(tweet): \n",
    "    return ' '.join(re.sub(\"(@[A-Za-z0-9]+)|([^0-9A-Za-z \\t])|(\\w+:\\/\\/\\S+)\", \" \", tweet).split())\n",
    "    \n",
    "def sentiment_score1(tweet):\n",
    "    return TextBlob(tweet).sentiment.polarity\n",
    "\n",
    "def get_sentiment1(score): \n",
    "        if score > 0: \n",
    "            return 4\n",
    "        elif score == 0: \n",
    "            return 2\n",
    "        else: \n",
    "            return 0\n",
    "        \n",
    "@udf(returnType=IntegerType())\n",
    "def langdetect(tweet):\n",
    "    try:\n",
    "        if detect(tweet)=='en':\n",
    "            return 1\n",
    "        else:\n",
    "            return 0\n",
    "    except:\n",
    "        return 0\n",
    "@udf(returnType=StringType())\n",
    "def clean_tweet(tweet): \n",
    "    return ' '.join(re.sub(\"(@[A-Za-z0-9]+)|([^0-9A-Za-z \\t])|(\\w+:\\/\\/\\S+)\", \" \", tweet).split())\n",
    "    \n",
    "@udf(returnType=FloatType())\n",
    "def sentiment_score(tweet):\n",
    "    return TextBlob(tweet).sentiment.polarity\n",
    "\n",
    "@udf(returnType=IntegerType())\n",
    "def get_sentiment(score): \n",
    "        if score > 0: \n",
    "            return 4\n",
    "        elif score == 0: \n",
    "            return 2\n",
    "        else: \n",
    "            return 0"
   ]
  },
  {
   "cell_type": "code",
   "execution_count": 12,
   "metadata": {
    "_kg_hide-output": false
   },
   "outputs": [
    {
     "name": "stdout",
     "output_type": "stream",
     "text": [
      "                                                text  englishornot  \\\n",
      "1  Cardano: Digitize Currencies; EOS https://t.co...             1   \n",
      "2  Another Test tweet that wasn't caught in the s...             1   \n",
      "3  Current Crypto Prices! \\n\\nBTC: $8721.99 USD\\n...             1   \n",
      "4  Spiv (Nosar Baz): BITCOIN Is An Asset &amp; NO...             1   \n",
      "6  @nwoodfine We have been building on the real #...             1   \n",
      "\n",
      "                                          cleantweet  polarity  output  \n",
      "1  Cardano Digitize Currencies EOS 6500 ROI AT am...       0.0       2  \n",
      "2  Another Test tweet that wasn t caught in the s...       0.0       2  \n",
      "3  Current Crypto Prices BTC 8721 99 USD ETH 266 ...       0.0       2  \n",
      "4  Spiv Nosar Baz BITCOIN Is An Asset amp NOT A C...       0.0       2  \n",
      "6  We have been building on the real bitcoin SV W...      -0.1       0  \n",
      "Total Execution Time in seconds =  120.12887477874756\n"
     ]
    }
   ],
   "source": [
    "start=time.time()\n",
    "\n",
    "df1=pd.read_csv(\"../input/bitcoin-tweets-20160101-to-20190329/tweets.csv\",sep=\";\",encoding='utf-8',nrows=10000)\n",
    "\n",
    "df1=df1['text']\n",
    "df1=pd.DataFrame(df1)\n",
    "df1=df1.dropna()\n",
    "df1['text'] = df1['text'].str.strip()\n",
    "df1=df1[(df1.text!=\"\")]\n",
    "\n",
    "df1['englishornot']=df1['text'].map(langdetect1)\n",
    "df1=df1[(df1.englishornot!=0)]\n",
    "df1['cleantweet']=df1['text'].map(clean_tweet1)\n",
    "df1['polarity']=df1['cleantweet'].map(sentiment_score1)\n",
    "df1['output']=df1['polarity'].map(get_sentiment1)\n",
    "print(df1.head())\n",
    "\n",
    "end=time.time()\n",
    "\n",
    "print(\"Total Execution Time in seconds = \",end-start) "
   ]
  },
  {
   "cell_type": "code",
   "execution_count": 4,
   "metadata": {},
   "outputs": [
    {
     "name": "stdout",
     "output_type": "stream",
     "text": [
      "+--------------------+------------+--------------------+------------+------+\n",
      "|                text|englishornot|          cleantweet|    polarity|output|\n",
      "+--------------------+------------+--------------------+------------+------+\n",
      "|Cardano: Digitize...|           1|Cardano Digitize ...|         0.0|     2|\n",
      "|Another Test twee...|           1|Another Test twee...|         0.0|     2|\n",
      "|Current Crypto Pr...|           1|Current Crypto Pr...|         0.0|     2|\n",
      "|Spiv (Nosar Baz):...|           1|Spiv Nosar Baz BI...|         0.0|     2|\n",
      "|@nwoodfine We hav...|           1|We have been buil...|         0.2|     4|\n",
      "|CHANGE IS COMING....|           1|CHANGE IS COMING ...|         0.2|     4|\n",
      "|One of the useful...|           1|One of the useful...|         0.3|     4|\n",
      "|BestMixer has bee...|           1|BestMixer has bee...|         0.0|     2|\n",
      "|Invested my Life ...|           1|Invested my Life ...|         0.0|     2|\n",
      "|Bitcoin Price Hit...|           1|Bitcoin Price Hit...|  0.14818181|     4|\n",
      "|#Countdown #Comin...|           1|Countdown ComingS...|        -0.2|     0|\n",
      "|You have roughly ...|           1|You have roughly ...|-0.033333335|     0|\n",
      "|     Running bitcoin|           1|     Running bitcoin|         0.0|     2|\n",
      "|Crypto prices ros...|           1|Crypto prices ros...|         0.6|     4|\n",
      "|Bitcoin SV (BSV) ...|           1|Bitcoin SV BSV Pr...|         0.0|     2|\n",
      "|Bitcoin Whales Mo...|           1|Bitcoin Whales Mo...|       0.125|     4|\n",
      "|As Intel $INTC Va...|           1|As Intel INTC Val...|         0.6|     4|\n",
      "|This is true. Cry...|           1|This is true Cryp...|  0.24318182|     4|\n",
      "|@APompliano If by...|           1|If by Bitcoin you...|-0.104166664|     0|\n",
      "|Pls save cuttoff ...|           1|Pls save cuttoff ...|         0.0|     2|\n",
      "+--------------------+------------+--------------------+------------+------+\n",
      "only showing top 20 rows\n",
      "\n",
      "Total Execution Time in seconds =  81.41639018058777\n"
     ]
    }
   ],
   "source": [
    "start=time.time()\n",
    "\n",
    "spark = SparkSession.builder.master(\"local[10]\").appName(\"Twitter-Sentiment-Analysis\").getOrCreate()\n",
    "df2=spark.read.csv(path=\"../input/bitcoin-tweets-20160101-to-20190329/tweets.csv\",sep=\";\",header=True).limit(10000).cache()\n",
    "\n",
    "df2 = df2.select('text')\n",
    "df2 = df2.na.drop()\n",
    "df2 = df2.withColumn('text', trim(col('text')))\n",
    "df2 = df2.filter(col('text')!=\"\")\n",
    "\n",
    "df2=df2.withColumn(\"englishornot\", langdetect(col(\"text\")))\n",
    "df2 = df2.filter(col('englishornot')!=0)\n",
    "df2=df2.withColumn(\"cleantweet\", clean_tweet(col(\"text\")))\n",
    "df2=df2.withColumn(\"polarity\", sentiment_score(col(\"cleantweet\")))\n",
    "df2=df2.withColumn(\"output\", get_sentiment(col(\"polarity\")))\n",
    "\n",
    "df2.show()\n",
    "\n",
    "end=time.time()\n",
    "print(\"Total Execution Time in seconds = \",end-start) "
   ]
  },
  {
   "cell_type": "code",
   "execution_count": 11,
   "metadata": {},
   "outputs": [
    {
     "name": "stdout",
     "output_type": "stream",
     "text": [
      "+--------------------+------------+--------------------+------------+------+\n",
      "|                text|englishornot|          cleantweet|    polarity|output|\n",
      "+--------------------+------------+--------------------+------------+------+\n",
      "|Cardano: Digitize...|           1|Cardano Digitize ...|         0.0|     2|\n",
      "|Another Test twee...|           1|Another Test twee...|         0.0|     2|\n",
      "|Current Crypto Pr...|           1|Current Crypto Pr...|         0.0|     2|\n",
      "|Spiv (Nosar Baz):...|           1|Spiv Nosar Baz BI...|         0.0|     2|\n",
      "|@nwoodfine We hav...|           1|We have been buil...|         0.2|     4|\n",
      "|CHANGE IS COMING....|           1|CHANGE IS COMING ...|         0.2|     4|\n",
      "|One of the useful...|           1|One of the useful...|         0.3|     4|\n",
      "|BestMixer has bee...|           1|BestMixer has bee...|         0.0|     2|\n",
      "|Invested my Life ...|           1|Invested my Life ...|         0.0|     2|\n",
      "|Bitcoin Price Hit...|           1|Bitcoin Price Hit...|  0.14818181|     4|\n",
      "|#Countdown #Comin...|           1|Countdown ComingS...|        -0.2|     0|\n",
      "|You have roughly ...|           1|You have roughly ...|-0.033333335|     0|\n",
      "|     Running bitcoin|           1|     Running bitcoin|         0.0|     2|\n",
      "|Crypto prices ros...|           1|Crypto prices ros...|         0.6|     4|\n",
      "|Bitcoin SV (BSV) ...|           1|Bitcoin SV BSV Pr...|         0.0|     2|\n",
      "|Bitcoin Whales Mo...|           1|Bitcoin Whales Mo...|       0.125|     4|\n",
      "|As Intel $INTC Va...|           1|As Intel INTC Val...|         0.6|     4|\n",
      "|This is true. Cry...|           1|This is true Cryp...|  0.24318182|     4|\n",
      "|@APompliano If by...|           1|If by Bitcoin you...|-0.104166664|     0|\n",
      "|Pls save cuttoff ...|           1|Pls save cuttoff ...|         0.0|     2|\n",
      "+--------------------+------------+--------------------+------------+------+\n",
      "only showing top 20 rows\n",
      "\n",
      "Total Execution Time in seconds =  420.3160572052002\n"
     ]
    }
   ],
   "source": [
    "start=time.time()\n",
    "\n",
    "spark = SparkSession.builder.master(\"local[10]\").appName(\"Twitter-Sentiment-Analysis\").getOrCreate()\n",
    "df=spark.read.csv(path=\"../input/bitcoin-tweets-20160101-to-20190329/tweets.csv\",sep=\";\",header=True).cache()\n",
    "\n",
    "df = df.select('text')\n",
    "df = df.na.drop()\n",
    "df = df.withColumn('text', trim(col('text')))\n",
    "df = df.filter(col('text')!=\"\")\n",
    "\n",
    "df=df.withColumn(\"englishornot\", langdetect(col(\"text\")))\n",
    "df = df.filter(col('englishornot')!=0)\n",
    "df=df.withColumn(\"cleantweet\", clean_tweet(col(\"text\")))\n",
    "df=df.withColumn(\"polarity\", sentiment_score(col(\"cleantweet\")))\n",
    "df=df.withColumn(\"output\", get_sentiment(col(\"polarity\")))\n",
    "\n",
    "df.show()\n",
    "\n",
    "end=time.time()\n",
    "print(\"Total Execution Time in seconds = \",end-start) "
   ]
  },
  {
   "cell_type": "code",
   "execution_count": 10,
   "metadata": {},
   "outputs": [
    {
     "name": "stdout",
     "output_type": "stream",
     "text": [
      "+------+-----+\n",
      "|output|count|\n",
      "+------+-----+\n",
      "|     4|  940|\n",
      "|     2| 1210|\n",
      "|     0|  244|\n",
      "+------+-----+\n",
      "\n"
     ]
    }
   ],
   "source": [
    "output_count_df=df2.groupby('output').count()\n",
    "output_count_df.show()"
   ]
  },
  {
   "cell_type": "code",
   "execution_count": 23,
   "metadata": {},
   "outputs": [
    {
     "data": {
      "text/plain": [
       "<matplotlib.axes._subplots.AxesSubplot at 0x7f2c43111910>"
      ]
     },
     "execution_count": 23,
     "metadata": {},
     "output_type": "execute_result"
    },
    {
     "data": {
      "image/png": "[encoded data removed]",
      "text/plain": [
       "<Figure size 432x288 with 1 Axes>"
      ]
     },
     "metadata": {
      "needs_background": "light"
     },
     "output_type": "display_data"
    }
   ],
   "source": [
    "pandas_df=output_count_df.toPandas()\n",
    "pandas_df=pandas_df.set_index('output')\n",
    "pandas_df['count'].plot(kind=\"bar\")"
   ]
  }
 ],
 "metadata": {
  "kernelspec": {
   "display_name": "Python 3",
   "language": "python",
   "name": "python3"
  },
  "language_info": {
   "codemirror_mode": {
    "name": "ipython",
    "version": 3
   },
   "file_extension": ".py",
   "mimetype": "text/x-python",
   "name": "python",
   "nbconvert_exporter": "python",
   "pygments_lexer": "ipython3",
   "version": "3.7.3"
  }
 },
 "nbformat": 4,
 "nbformat_minor": 4
}
